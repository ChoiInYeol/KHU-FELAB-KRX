{
  "cells": [
    {
      "cell_type": "code",
      "execution_count": 39,
      "metadata": {
        "id": "pmx8MONuNf4c"
      },
      "outputs": [],
      "source": [
        "import csv\n",
        "import pandas as pd\n",
        "from sklearn.model_selection import train_test_split\n",
        "\n",
        "# Importing Libraries\n",
        "import numpy as np\n",
        "import matplotlib.pyplot as plt\n",
        "import pandas as pd\n",
        "from datetime import timedelta\n",
        "from sklearn.preprocessing import RobustScaler\n",
        "plt.style.use(\"bmh\")\n",
        "\n",
        "# Technical Analysis library\n",
        "#import ta\n",
        "\n",
        "# Neural Network library\n",
        "import tensorflow as tf\n",
        "import tensorflow_probability as tfp\n",
        "from keras.models import Sequential\n",
        "from keras.layers import LSTM, Dense, Dropout\n",
        "from keras.layers import Activation\n",
        "from keras.optimizers import Adam\n",
        "from tensorflow import keras\n",
        "from sklearn.utils import shuffle\n",
        "from keras.callbacks import EarlyStopping\n",
        "from keras.regularizers import l2"
      ]
    },
    {
      "cell_type": "code",
      "execution_count": 3,
      "metadata": {
        "id": "X67WBxm-Nf4d"
      },
      "outputs": [],
      "source": [
        "df = pd.read_csv(\"top50-Stock_LogReturn.csv\", index_col=\"Date\")\n",
        "train, test = train_test_split(df, test_size=0.2, shuffle=False)"
      ]
    },
    {
      "cell_type": "code",
      "execution_count": 4,
      "metadata": {
        "colab": {
          "base_uri": "https://localhost:8080/"
        },
        "id": "s4xwIORyNf4e",
        "outputId": "96e136e4-6024-415a-efb7-110f76555957"
      },
      "outputs": [
        {
          "name": "stdout",
          "output_type": "stream",
          "text": [
            "4212 1053\n"
          ]
        }
      ],
      "source": [
        "train_len = len(train)\n",
        "test_len = len(test)\n",
        "print(train_len, test_len)"
      ]
    },
    {
      "cell_type": "code",
      "execution_count": 5,
      "metadata": {
        "id": "D607tWjKNf4f"
      },
      "outputs": [],
      "source": [
        "xc_train = np.empty((train_len - 80, 60, 50))\n",
        "xf_train = np.empty((train_len - 80, 20, 50))\n",
        "\n",
        "xc_test = np.empty((test_len - 80, 60, 50))\n",
        "xf_test = np.empty((test_len - 80, 20, 50))"
      ]
    },
    {
      "cell_type": "code",
      "execution_count": 6,
      "metadata": {
        "colab": {
          "base_uri": "https://localhost:8080/"
        },
        "id": "Kjfm2f4WNf4f",
        "outputId": "a56810ee-fbd2-4404-b3de-dc7ad83d8c94"
      },
      "outputs": [
        {
          "name": "stdout",
          "output_type": "stream",
          "text": [
            "xc_train :  (4132, 60, 50)\n",
            "xf_train :  (4132, 20, 50)\n",
            "xc_test :  (973, 60, 50)\n",
            "xf_test :  (973, 20, 50)\n"
          ]
        }
      ],
      "source": [
        "print(\"xc_train : \", xc_train.shape)\n",
        "print(\"xf_train : \", xf_train.shape)\n",
        "print(\"xc_test : \", xc_test.shape)\n",
        "print(\"xf_test : \", xf_test.shape)"
      ]
    },
    {
      "cell_type": "code",
      "execution_count": 7,
      "metadata": {
        "id": "_uheqNV4Nf4f"
      },
      "outputs": [],
      "source": [
        "temp_xc_train = train[0: 60]\n",
        "temp_xf_train = train[60 : 80]"
      ]
    },
    {
      "cell_type": "code",
      "execution_count": 8,
      "metadata": {
        "id": "QLJp3lUpNf4g"
      },
      "outputs": [],
      "source": [
        "for i in range(train_len - 80):\n",
        "    temp_xc_train = train[i : i+60]\n",
        "    temp_xf_train = train[i+60 : i+80]\n",
        "\n",
        "    xc_train[i] = temp_xc_train\n",
        "    xf_train[i] = temp_xf_train\n",
        "\n",
        "for i in range(test_len - 80):\n",
        "    temp_xc_test = test[i : i+60]\n",
        "    temp_xf_test = test[i+60 : i+80]\n",
        "\n",
        "    xc_test[i] = temp_xc_test\n",
        "    xf_test[i] = temp_xf_test"
      ]
    },
    {
      "cell_type": "code",
      "execution_count": 9,
      "metadata": {
        "id": "W99yJswQNf4g"
      },
      "outputs": [],
      "source": [
        "# 월간 수익률 정도의 스케일로 변환한다\n",
        "xc_train = xc_train.astype('float32') * 20\n",
        "xf_train = xf_train.astype('float32') * 20\n",
        "xc_test = xc_test.astype('float32') * 20\n",
        "xf_test = xf_test.astype('float32') * 20"
      ]
    },
    {
      "cell_type": "code",
      "execution_count": 44,
      "metadata": {
        "id": "9bO2O7jnNf4g"
      },
      "outputs": [],
      "source": [
        "N_TIME = xc_train.shape[1]\n",
        "N_FUTURE = xf_train.shape[1]\n",
        "N_STOCKS = xf_train.shape[2]\n",
        "\n",
        "# 학습 데이터는 shuffling 한다.\n",
        "xc_train, xf_train = shuffle(xc_train, xf_train)\n",
        "\n",
        "# over confidence를 제어할 조절 변수 정의\n",
        "GAMMA_CONST = 0.1\n",
        "REG_CONST = 0.1\n",
        "SAVE_MODEL = 'Markowitz_network'"
      ]
    },
    {
      "cell_type": "code",
      "execution_count": 45,
      "metadata": {
        "id": "UOK71f0gNf4h"
      },
      "outputs": [],
      "source": [
        "# 최적 포트폴리오를 구축할 목표 함수를 정의한다.\n",
        "# MPN에서는 이 함수를 loss로 이용한다. max(objective) = min(-objective)\n",
        "# y_true = model.fit()에서 전달된 N_FUTURE일 후의 수익률 (xf_train)이 들어온다.\n",
        "# y_pred = 마코비츠 네트워크의 출력이 전달된다. (keras 내부 기능)\n",
        "\n",
        "def markowitz_objective(y_true, y_pred):\n",
        "    W = y_pred      # 마코비츠 네트워크의 출력 1 by 50\n",
        "    xf_rtn = y_true\n",
        "    W = tf.expand_dims(W, axis = 1)\n",
        "    R = tf.expand_dims(tf.reduce_mean(xf_rtn, axis = 1), axis = 2)\n",
        "    C = tfp.stats.covariance(xf_rtn, sample_axis=1)\n",
        "\n",
        "    rtn = tf.matmul(W, R) \n",
        "    vol = tf.matmul(W, tf.matmul(C, tf.transpose(W, perm = [0, 2, 1]))) * GAMMA_CONST # 기대 분산\n",
        "    reg = tf.reduce_sum(tf.square(W), axis = -1) * REG_CONST # 규제항\n",
        "    objective = rtn - vol - reg\n",
        "    \n",
        "    return -tf.reduce_mean(objective, axis=0)"
      ]
    },
    {
      "cell_type": "code",
      "execution_count": 46,
      "metadata": {
        "id": "dios09JJNf4h"
      },
      "outputs": [],
      "source": [
        "# LSTM으로 Markowitz 모델을 생성한다.\n",
        "xc_input = tf.keras.Input(batch_shape = (None, N_TIME, N_STOCKS))\n",
        "h_lstm = LSTM(64, dropout = 0.2, kernel_regularizer=l2(0.01))(xc_input)\n",
        "y_output = Dense(N_STOCKS, activation='tanh')(h_lstm)  # linear projection\n",
        "\n",
        "# 특정 종목을 과도하게 매수하는 것을 방지하기 위해 위에서 tanh를 사용했다. \n",
        "# (over confidence 방지용). REG_CONST를 적용했기 때문에 이미 고려된 사항이지만, \n",
        "# 안전을 위해 추가했다. ex : [-3, 0.4, 0.2, +20] --> [-0.995, 0.380, 0.197, 1.0]|\n",
        "\n",
        "# 마코비츠의 최적 weights\n",
        "y_output = Activation('softmax')(y_output)\n",
        "\n",
        "model = tf.keras.Model(xc_input, y_output)\n",
        "model.compile(loss = markowitz_objective, optimizer = Adam(learning_rate = 1e-6))"
      ]
    },
    {
      "cell_type": "code",
      "execution_count": null,
      "metadata": {
        "id": "leL8wReDNf4i"
      },
      "outputs": [],
      "source": [
        "from keras import callbacks\n",
        "# # MPN을 학습하고 결과를 저장한다.\n",
        "for i in range(7, 10):\n",
        "  ealry_stopping = EarlyStopping(monitor='val_loss', patience=10)\n",
        "  hist = model.fit(xc_train, xf_train, epochs=100, batch_size = 32, validation_data = (xc_test, xf_test), callbacks=[ealry_stopping])\n",
        "  model.save(SAVE_MODEL + \"_\" + str(i) + '.h5')\n",
        "  print(hist.history['loss'][-1], hist.history['val_loss'][-1])"
      ]
    },
    {
      "cell_type": "code",
      "execution_count": 65,
      "metadata": {
        "colab": {
          "base_uri": "https://localhost:8080/",
          "height": 35
        },
        "id": "PR5jwIVBfnpz",
        "outputId": "7bc7f43a-af42-4abd-d01b-790a5d08ee3a"
      },
      "outputs": [
        {
          "data": {
            "application/vnd.google.colaboratory.intrinsic+json": {
              "type": "string"
            },
            "text/plain": [
              "'Markowitz_network_7.h5_0.h5'"
            ]
          },
          "execution_count": 65,
          "metadata": {},
          "output_type": "execute_result"
        }
      ],
      "source": [
        "SAVE_MODEL + \"_\" + str(i) + '.h5'"
      ]
    },
    {
      "cell_type": "code",
      "execution_count": null,
      "metadata": {
        "id": "cxNdN4EnNf4i"
      },
      "outputs": [],
      "source": [
        "# # MPN을 학습하고 결과를 저장한다.\n",
        "model =  tf.keras.models.load_model('Markowitz_network_6.h5', custom_objects={'markowitz_objective': markowitz_objective})\n",
        "model.compile(loss = markowitz_objective, optimizer = Adam(learning_rate = 5e-7))    \n",
        "hist = model.fit(xc_train, xf_train, epochs=300, batch_size = 32, validation_data = (xc_test, xf_test), callbacks=[ealry_stopping])\n",
        "model.save(SAVE_MODEL + \"_\" + str(i) + '.h5')\n",
        "print(hist.history['loss'][-1], hist.history['val_loss'][-1])"
      ]
    },
    {
      "cell_type": "code",
      "execution_count": 64,
      "metadata": {
        "colab": {
          "base_uri": "https://localhost:8080/",
          "height": 262
        },
        "id": "60VLFanzNf4j",
        "outputId": "cb2447b6-bc45-4832-fe24-3259075be7c1"
      },
      "outputs": [
        {
          "data": {
            "image/png": "[encoded data removed]",
            "text/plain": [
              "<Figure size 432x288 with 1 Axes>"
            ]
          },
          "metadata": {
            "needs_background": "light"
          },
          "output_type": "display_data"
        }
      ],
      "source": [
        "# loss trajectory를 확인한다.\n",
        "plt.figure(figsize=(6, 4))\n",
        "plt.plot(hist.history['loss'], label='Train loss')\n",
        "plt.plot(hist.history['val_loss'], label='Test loss')\n",
        "plt.legend()\n",
        "plt.show()"
      ]
    },
    {
      "cell_type": "code",
      "execution_count": 66,
      "metadata": {
        "colab": {
          "base_uri": "https://localhost:8080/",
          "height": 319
        },
        "id": "aQA6b3fANf4j",
        "outputId": "88c7ff63-29ef-4258-c861-172ba510b1a6"
      },
      "outputs": [
        {
          "name": "stderr",
          "output_type": "stream",
          "text": [
            "WARNING:tensorflow:6 out of the last 7 calls to <function Model.make_predict_function.<locals>.predict_function at 0x7fa982225b80> triggered tf.function retracing. Tracing is expensive and the excessive number of tracings could be due to (1) creating @tf.function repeatedly in a loop, (2) passing tensors with different shapes, (3) passing Python objects instead of tensors. For (1), please define your @tf.function outside of the loop. For (2), @tf.function has reduce_retracing=True option that can avoid unnecessary retracing. For (3), please refer to https://www.tensorflow.org/guide/function#controlling_retracing and https://www.tensorflow.org/api_docs/python/tf/function for  more details.\n"
          ]
        },
        {
          "name": "stdout",
          "output_type": "stream",
          "text": [
            "1/1 [==============================] - 0s 379ms/step\n"
          ]
        },
        {
          "data": {
            "image/png": "[encoded data removed]",
            "text/plain": [
              "<Figure size 576x288 with 1 Axes>"
            ]
          },
          "metadata": {
            "needs_background": "light"
          },
          "output_type": "display_data"
        }
      ],
      "source": [
        "# 최적 포트폴리오 결과 조회용 코드\n",
        "\n",
        "def check_w(n = 0):\n",
        "    plt.figure(figsize=(8, 4))\n",
        "    y_pred = model.predict(xc_test[n].reshape(1, N_TIME, N_STOCKS))[0]\n",
        "    plt.bar(np.arange(N_STOCKS), y_pred, alpha = 0.7)\n",
        "    plt.show()\n",
        "\n",
        "check_w(0)"
      ]
    },
    {
      "cell_type": "code",
      "execution_count": null,
      "metadata": {
        "id": "i-V6MhCfNf4j"
      },
      "outputs": [],
      "source": [
        "xc_train = np.empty((train_len - 100, 70, 50))\n",
        "xf_train = np.empty((train_len - 100, 30, 50))\n",
        "\n",
        "xc_test = np.empty((test_len - 100, 70, 50))\n",
        "xf_test = np.empty((test_len - 100, 30, 50))\n",
        "\n",
        "for i in range(train_len - 100):\n",
        "    temp_xc_train = train[i : i+70]\n",
        "    temp_xf_train = train[i+70 : i+100]\n",
        "\n",
        "    xc_train[i] = temp_xc_train\n",
        "    xf_train[i] = temp_xf_train\n",
        "\n",
        "for i in range(test_len - 100):\n",
        "    temp_xc_test = test[i : i+70]\n",
        "    temp_xf_test = test[i+70 : i+100]\n",
        "\n",
        "    xc_test[i] = temp_xc_test\n",
        "    xf_test[i] = temp_xf_test"
      ]
    },
    {
      "cell_type": "code",
      "execution_count": 68,
      "metadata": {
        "colab": {
          "base_uri": "https://localhost:8080/"
        },
        "id": "kPgkhFNRNf4k",
        "outputId": "7636e5e0-073f-42ae-c08b-85cec1721a7c"
      },
      "outputs": [
        {
          "name": "stdout",
          "output_type": "stream",
          "text": [
            "Model: \"model_4\"\n",
            "_________________________________________________________________\n",
            "Layer (type)                 Output Shape              Param #   \n",
            "=================================================================\n",
            "input_6 (InputLayer)         [(None, 60, 50)]          0         \n",
            "_________________________________________________________________\n",
            "lstm_4 (LSTM)                (None, 64)                29440     \n",
            "_________________________________________________________________\n",
            "dense_4 (Dense)              (None, 50)                3250      \n",
            "_________________________________________________________________\n",
            "activation_4 (Activation)    (None, 50)                0         \n",
            "=================================================================\n",
            "Total params: 32,690\n",
            "Trainable params: 32,690\n",
            "Non-trainable params: 0\n",
            "_________________________________________________________________\n"
          ]
        }
      ],
      "source": [
        "from tensorflow.python.keras.models import load_model\n",
        "\n",
        "N_TIME = xc_test.shape[1]\n",
        "N_FUTURE = xf_test.shape[1]\n",
        "N_STOCKS = xf_test.shape[2]\n",
        "\n",
        "# 저장된 Markowitz 모델을 가져온다.\n",
        "SAVE_MODEL = '/content/Markowitz_network_7.h5_0.h5'\n",
        "model = load_model(SAVE_MODEL, compile = False)\n",
        "model.summary()\n",
        "\n",
        "# 백 테스트를 수행한다.\n",
        "prt_value = [10000]   # portfolio의 초기 value\n",
        "crp_value = [10000]   # CRP의 초기 value\n",
        "w_crp = np.ones(N_STOCKS) / N_STOCKS   # CRP 비율 (균등 비율)\n",
        "\n",
        "w_history = []\n",
        "for i in range(0, xc_test.shape[0], N_FUTURE):\n",
        "    # 이 시점에 각 종목을 w_prt 비율대로 매수한다.\n",
        "    # 학습할 때 월간 수익률로 변환했으므로, 여기서도 변환해야 한다.\n",
        "    x = xc_test[i][np.newaxis,:,:] * 20\n",
        "    w_prt = model.predict(x)[0]\n",
        "    w_history.append(w_prt)\n",
        "\n",
        "    # 다음 기간의 누적 수익률\n",
        "    m_rtn = np.sum(xf_test[i], axis = 0) / 20\n",
        " \n",
        "    # 누적 수익률과 w_prt (W)로 포트폴리오의 수익률을 계산한다.\n",
        "    prt_value.append(prt_value[-1] * np.exp(np.dot(w_prt, m_rtn)))\n",
        "    crp_value.append(crp_value[-1] * np.exp(np.dot(w_crp, m_rtn)))\n",
        "\n",
        "# 평가 시점의 날짜를 발췌한다.\n",
        "idx = np.arange(0, xc_test.shape[0], N_FUTURE)\n",
        "#idx = np.append(idx, 980)\n",
        "\n",
        "# Markowitz 성과와 CRP 성과를 데이터 프레임에 기록해 둔다.\n",
        "perf_df = pd.DataFrame({'crp':crp_value, 'markowitz':prt_value})"
      ]
    },
    {
      "cell_type": "code",
      "execution_count": 69,
      "metadata": {
        "colab": {
          "base_uri": "https://localhost:8080/",
          "height": 280
        },
        "id": "HHib94KZNf4k",
        "outputId": "8e0667c6-b331-4dd2-ec65-c2a1c131a6c9"
      },
      "outputs": [
        {
          "data": {
            "text/plain": [
              "<matplotlib.axes._subplots.AxesSubplot at 0x7fa9820d49d0>"
            ]
          },
          "execution_count": 69,
          "metadata": {},
          "output_type": "execute_result"
        },
        {
          "data": {
            "image/png": "[encoded data removed]",
            "text/plain": [
              "<Figure size 432x288 with 1 Axes>"
            ]
          },
          "metadata": {
            "needs_background": "light"
          },
          "output_type": "display_data"
        }
      ],
      "source": [
        "perf_df.plot()"
      ]
    },
    {
      "cell_type": "code",
      "execution_count": null,
      "metadata": {
        "id": "m8p9dHJgUB_w"
      },
      "outputs": [],
      "source": []
    }
  ],
  "metadata": {
    "accelerator": "GPU",
    "colab": {
      "provenance": []
    },
    "gpuClass": "standard",
    "kernelspec": {
      "display_name": "Python 3",
      "language": "python",
      "name": "python3"
    },
    "language_info": {
      "codemirror_mode": {
        "name": "ipython",
        "version": 3
      },
      "file_extension": ".py",
      "mimetype": "text/x-python",
      "name": "python",
      "nbconvert_exporter": "python",
      "pygments_lexer": "ipython3",
      "version": "3.9.1 (tags/v3.9.1:1e5d33e, Dec  7 2020, 17:08:21) [MSC v.1927 64 bit (AMD64)]"
    },
    "orig_nbformat": 4,
    "vscode": {
      "interpreter": {
        "hash": "cb5b93e5982d2c4dadadf91355afbe287a5654d180101a50c415cc764280cd1d"
      }
    }
  },
  "nbformat": 4,
  "nbformat_minor": 0
}
