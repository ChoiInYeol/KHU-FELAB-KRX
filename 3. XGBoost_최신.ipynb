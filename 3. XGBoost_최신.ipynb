{
 "cells": [
  {
   "cell_type": "code",
   "execution_count": 1,
   "metadata": {},
   "outputs": [],
   "source": [
    "import pandas as pd\n",
    "import numpy as np\n",
    "import random\n",
    "import os\n",
    "\n",
    "from tqdm import tqdm\n",
    "import warnings\n",
    "\n",
    "import pandas_ta as ta\n",
    "from xgboost import XGBRegressor\n",
    "warnings.filterwarnings(\"ignore\")"
   ]
  },
  {
   "cell_type": "code",
   "execution_count": 3,
   "metadata": {},
   "outputs": [],
   "source": [
    "train = pd.read_pickle(\"train_기술적분석_다중공선성처리완료.pkl\")\n",
    "test = pd.read_pickle(\"prediction_기술적분석_다중공선성처리완료.pkl\")"
   ]
  },
  {
   "cell_type": "code",
   "execution_count": 6,
   "metadata": {},
   "outputs": [],
   "source": [
    "from sklearn.model_selection import GridSearchCV, TimeSeriesSplit\n",
    "from xgboost import XGBRegressor\n",
    "from tqdm import tqdm\n",
    "from joblib import Parallel, delayed\n",
    "\n",
    "# XGBoost 하이퍼파라미터의 탐색 공간 정의\n",
    "# param_grid = {\n",
    "#     'n_estimators': [100, 200, 500, 1000],\n",
    "#     'max_depth': [3, 5, 7, 10],\n",
    "#     'learning_rate': [0.01, 0.05, 0.1, 0.2, 0.3],\n",
    "#     'min_child_weight': [1, 3, 5],\n",
    "#     'subsample': [0.5, 0.7, 1],\n",
    "#     'colsample_bytree': [0.5, 0.7, 1]\n",
    "# }\n",
    "\n",
    "param_grid = {\n",
    "    'n_estimators': [100],\n",
    "    'max_depth': [3],\n",
    "    'learning_rate': [0.01],\n",
    "}\n",
    "\n",
    "\n",
    "results_df = pd.DataFrame(columns=['ticker', 'final_return'])\n",
    "\n",
    "# 특정 주식에 대해 Grid Search를 수행하는 함수\n",
    "def grid_search_for_one_stock(ticker, task:pd.DataFrame):\n",
    "    # 특정 주식 데이터만 선택\n",
    "    data = train[train['ticker'] == ticker]\n",
    "    task = test[test['ticker'] == ticker]\n",
    "\n",
    "    # 특성 및 타겟 정의\n",
    "    X = data.drop(['ticker', 'firm', 'target'], axis=1)\n",
    "    y = data['target']\n",
    "\n",
    "    X_pred = task.drop(['ticker', 'firm', 'target'], axis=1)\n",
    "\n",
    "    # XGBoost 모델 생성\n",
    "    model = XGBRegressor(objective='reg:squarederror', tree_method='gpu_hist')\n",
    "    model.fit(X, y)\n",
    "\n",
    "    # Grid Search 실행\n",
    "    #tscv = TimeSeriesSplit(n_splits=3)\n",
    "    #grid_search = GridSearchCV(model, param_grid, cv=tscv, scoring='neg_mean_squared_error')\n",
    "    #grid_search.fit(X, y)\n",
    "\n",
    "    # 최적 하이퍼파라미터를 사용하여 학습\n",
    "    #best_model = grid_search.best_estimator_\n",
    "    #best_model.fit(X, y)\n",
    "\n",
    "    # 향후 15개의 거래일에 대해서 예측\n",
    "    predictions = model.predict(X_pred)\n",
    "\n",
    "    # 최종 수익률 계산\n",
    "    final_return = (predictions[-1] - predictions[0]) / predictions[0]\n",
    "\n",
    "    # 결과 저장\n",
    "    return ticker, final_return\n",
    "\n",
    "# 모든 주식에 대해 병렬로 Grid Search 실행\n",
    "results = Parallel(n_jobs=-1)(delayed(grid_search_for_one_stock)(ticker, test) for ticker in train['ticker'].unique())"
   ]
  },
  {
   "cell_type": "code",
   "execution_count": 7,
   "metadata": {},
   "outputs": [
    {
     "data": {
      "text/html": [
       "<div>\n",
       "<style scoped>\n",
       "    .dataframe tbody tr th:only-of-type {\n",
       "        vertical-align: middle;\n",
       "    }\n",
       "\n",
       "    .dataframe tbody tr th {\n",
       "        vertical-align: top;\n",
       "    }\n",
       "\n",
       "    .dataframe thead th {\n",
       "        text-align: right;\n",
       "    }\n",
       "</style>\n",
       "<table border=\"1\" class=\"dataframe\">\n",
       "  <thead>\n",
       "    <tr style=\"text-align: right;\">\n",
       "      <th></th>\n",
       "      <th>ticker</th>\n",
       "      <th>return</th>\n",
       "    </tr>\n",
       "  </thead>\n",
       "  <tbody>\n",
       "    <tr>\n",
       "      <th>0</th>\n",
       "      <td>A000020</td>\n",
       "      <td>-0.009876</td>\n",
       "    </tr>\n",
       "    <tr>\n",
       "      <th>1</th>\n",
       "      <td>A000040</td>\n",
       "      <td>0.024674</td>\n",
       "    </tr>\n",
       "    <tr>\n",
       "      <th>2</th>\n",
       "      <td>A000050</td>\n",
       "      <td>-0.024016</td>\n",
       "    </tr>\n",
       "    <tr>\n",
       "      <th>3</th>\n",
       "      <td>A000070</td>\n",
       "      <td>-0.003829</td>\n",
       "    </tr>\n",
       "    <tr>\n",
       "      <th>4</th>\n",
       "      <td>A000080</td>\n",
       "      <td>0.009516</td>\n",
       "    </tr>\n",
       "  </tbody>\n",
       "</table>\n",
       "</div>"
      ],
      "text/plain": [
       "    ticker    return\n",
       "0  A000020 -0.009876\n",
       "1  A000040  0.024674\n",
       "2  A000050 -0.024016\n",
       "3  A000070 -0.003829\n",
       "4  A000080  0.009516"
      ]
     },
     "execution_count": 7,
     "metadata": {},
     "output_type": "execute_result"
    }
   ],
   "source": [
    "answer = pd.DataFrame(results, columns=['ticker', 'return'])\n",
    "answer.head()"
   ]
  },
  {
   "cell_type": "code",
   "execution_count": 16,
   "metadata": {},
   "outputs": [],
   "source": [
    "answer = pd.read_csv(\"./sub/model01_281724.csv\")"
   ]
  },
  {
   "cell_type": "code",
   "execution_count": 17,
   "metadata": {},
   "outputs": [],
   "source": [
    "sample = pd.read_csv(\"./sub/sample_submission.csv\")\n",
    "sample = sample.rename(columns = {'종목코드' : 'ticker', '순위' : 'rating'})\n",
    "\n",
    "# sample의 'ticker' 컬럼에서 answer의 'ticker' 컬럼에 없는 값을 선택\n",
    "missing_tickers = sample[~sample['ticker'].isin(answer['ticker'])]\n",
    "missing_tickers = missing_tickers.reset_index(drop=True)\n",
    "missing_tickers = missing_tickers.drop('rating', axis=1)\n",
    "missing_tickers['return'] = 0\n",
    "missing_tickers.head()\n",
    "\n",
    "submission = pd.merge(answer, missing_tickers, how='outer')\n",
    "submission = submission.sort_values('return', ascending=False)\n",
    "submission = submission.reset_index()\n",
    "submission = submission.reset_index()\n",
    "submission = submission.drop('index', axis=1)\n",
    "submission = submission.sort_values('ticker')\n",
    "submission['순위2'] = submission['level_0']\n",
    "submission = submission.drop(['level_0', 'return'], axis=1)\n",
    "submission = submission.reset_index(drop=True)\n",
    "submission['순위'] = submission['순위2'] + 1\n",
    "submission = submission.rename(columns = {'ticker' : '종목코드'})\n",
    "submission = submission.drop('순위2', axis=1)\n",
    "\n",
    "submission.to_csv(\"XGBoost5.csv\")"
   ]
  },
  {
   "cell_type": "code",
   "execution_count": 19,
   "metadata": {},
   "outputs": [
    {
     "data": {
      "text/plain": [
       "1957"
      ]
     },
     "execution_count": 19,
     "metadata": {},
     "output_type": "execute_result"
    }
   ],
   "source": [
    "submission = pd.read_csv(\"./sub/XGBoost5.csv\")\n",
    "len(submission['순위'].unique())"
   ]
  },
  {
   "cell_type": "code",
   "execution_count": null,
   "metadata": {},
   "outputs": [],
   "source": []
  }
 ],
 "metadata": {
  "kernelspec": {
   "display_name": "KRX",
   "language": "python",
   "name": "python3"
  },
  "language_info": {
   "codemirror_mode": {
    "name": "ipython",
    "version": 3
   },
   "file_extension": ".py",
   "mimetype": "text/x-python",
   "name": "python",
   "nbconvert_exporter": "python",
   "pygments_lexer": "ipython3",
   "version": "3.10.11"
  },
  "orig_nbformat": 4
 },
 "nbformat": 4,
 "nbformat_minor": 2
}
