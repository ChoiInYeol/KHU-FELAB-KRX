{
 "cells": [
  {
   "cell_type": "code",
   "execution_count": 22,
   "metadata": {},
   "outputs": [],
   "source": [
    "import pandas as pd\n",
    "import numpy as np\n",
    "import random\n",
    "import os\n",
    "\n",
    "from tqdm import tqdm\n",
    "import warnings\n",
    "\n",
    "import pandas_ta as ta\n",
    "from xgboost import XGBRegressor\n",
    "from xgboost import XGBClassifier\n",
    "warnings.filterwarnings(\"ignore\")\n",
    "\n",
    "from sklearn.model_selection import GridSearchCV, TimeSeriesSplit\n",
    "from xgboost import XGBClassifier\n",
    "from tqdm import tqdm\n",
    "from joblib import Parallel, delayed"
   ]
  },
  {
   "cell_type": "code",
   "execution_count": 25,
   "metadata": {},
   "outputs": [],
   "source": [
    "train = pd.read_pickle(\"./data/train_완료.pkl\")\n",
    "test = pd.read_pickle(\"./data/prediction_완료.pkl\")"
   ]
  },
  {
   "cell_type": "code",
   "execution_count": 41,
   "metadata": {},
   "outputs": [],
   "source": [
    "# XGBoost 하이퍼파라미터의 탐색 공간 정의\n",
    "param_grid = {\n",
    "    'n_estimators': [100, 200, 500],\n",
    "    'max_depth': [3, 5, 7],\n",
    "    'learning_rate': [0.05, 0.1, 0.2],\n",
    "    'min_child_weight': [1, 3],\n",
    "    'subsample': [0.7, 1],\n",
    "    'colsample_bytree': [0.7, 1]\n",
    "}\n",
    "\n",
    "X = train.drop(['date', 'ticker', 'target', 'pct_change', 'class_target'], axis=1) \n",
    "y = train['class_target'] # class_target이 종속 변수 Y (분류 모델)\n",
    "\n",
    "test_final_day = test[test['date'] == \"2023-05-30\"] # 상승/보합/하락 분류 모델이므로 마지막 날만 사용하면 됨.\n",
    "X_pred = test_final_day.drop(['date', 'ticker', 'target'], axis=1)\n",
    "\n",
    "model = XGBClassifier(tree_method='gpu_hist', n_jobs=-1)\n",
    "\n",
    "# GridSearchCV를 사용하여 최적의 하이퍼파라미터 탐색\n",
    "grid_search = GridSearchCV(estimator=model, param_grid=param_grid, cv=3, n_jobs=-1)\n",
    "grid_search.fit(X, y)\n",
    "\n",
    "# 최적의 파라미터와 최고 정확도 출력\n",
    "print(\"Best Parameters:\", grid_search.best_params_)\n",
    "print(\"Best Accuracy:\", grid_search.best_score_)\n",
    "\n",
    "# 최적의 파라미터로 모델을 다시 학습\n",
    "best_model = grid_search.best_estimator_\n",
    "best_model.fit(X, y)\n",
    "\n",
    "predictions = best_model.predict(X_pred)"
   ]
  },
  {
   "cell_type": "code",
   "execution_count": 39,
   "metadata": {},
   "outputs": [
    {
     "data": {
      "text/html": [
       "<div>\n",
       "<style scoped>\n",
       "    .dataframe tbody tr th:only-of-type {\n",
       "        vertical-align: middle;\n",
       "    }\n",
       "\n",
       "    .dataframe tbody tr th {\n",
       "        vertical-align: top;\n",
       "    }\n",
       "\n",
       "    .dataframe thead th {\n",
       "        text-align: right;\n",
       "    }\n",
       "</style>\n",
       "<table border=\"1\" class=\"dataframe\">\n",
       "  <thead>\n",
       "    <tr style=\"text-align: right;\">\n",
       "      <th></th>\n",
       "      <th>종목코드</th>\n",
       "      <th>예상</th>\n",
       "    </tr>\n",
       "  </thead>\n",
       "  <tbody>\n",
       "    <tr>\n",
       "      <th>0</th>\n",
       "      <td>A000020</td>\n",
       "      <td>0</td>\n",
       "    </tr>\n",
       "    <tr>\n",
       "      <th>1</th>\n",
       "      <td>A000040</td>\n",
       "      <td>0</td>\n",
       "    </tr>\n",
       "    <tr>\n",
       "      <th>2</th>\n",
       "      <td>A000050</td>\n",
       "      <td>0</td>\n",
       "    </tr>\n",
       "    <tr>\n",
       "      <th>3</th>\n",
       "      <td>A000070</td>\n",
       "      <td>0</td>\n",
       "    </tr>\n",
       "    <tr>\n",
       "      <th>4</th>\n",
       "      <td>A000080</td>\n",
       "      <td>0</td>\n",
       "    </tr>\n",
       "    <tr>\n",
       "      <th>...</th>\n",
       "      <td>...</td>\n",
       "      <td>...</td>\n",
       "    </tr>\n",
       "    <tr>\n",
       "      <th>1952</th>\n",
       "      <td>A375500</td>\n",
       "      <td>0</td>\n",
       "    </tr>\n",
       "    <tr>\n",
       "      <th>1953</th>\n",
       "      <td>A378850</td>\n",
       "      <td>2</td>\n",
       "    </tr>\n",
       "    <tr>\n",
       "      <th>1954</th>\n",
       "      <td>A383220</td>\n",
       "      <td>0</td>\n",
       "    </tr>\n",
       "    <tr>\n",
       "      <th>1955</th>\n",
       "      <td>A383310</td>\n",
       "      <td>2</td>\n",
       "    </tr>\n",
       "    <tr>\n",
       "      <th>1956</th>\n",
       "      <td>A383800</td>\n",
       "      <td>1</td>\n",
       "    </tr>\n",
       "  </tbody>\n",
       "</table>\n",
       "<p>1957 rows × 2 columns</p>\n",
       "</div>"
      ],
      "text/plain": [
       "         종목코드  예상\n",
       "0     A000020   0\n",
       "1     A000040   0\n",
       "2     A000050   0\n",
       "3     A000070   0\n",
       "4     A000080   0\n",
       "...       ...  ..\n",
       "1952  A375500   0\n",
       "1953  A378850   2\n",
       "1954  A383220   0\n",
       "1955  A383310   2\n",
       "1956  A383800   1\n",
       "\n",
       "[1957 rows x 2 columns]"
      ]
     },
     "execution_count": 39,
     "metadata": {},
     "output_type": "execute_result"
    }
   ],
   "source": [
    "result = pd.DataFrame(test_final_day['ticker'].unique(), predictions, columns=[\"종목코드\"])\n",
    "result = result.reset_index()\n",
    "result[\"예상\"] = result['index']\n",
    "result = result.drop(\"index\", axis=1)\n",
    "result"
   ]
  },
  {
   "cell_type": "code",
   "execution_count": null,
   "metadata": {},
   "outputs": [],
   "source": [
    "import matplotlib.pyplot as plt\n",
    "# 레이블 분포 확인\n",
    "label_counts = result['예상'].value_counts()\n",
    "\n",
    "# 시각화\n",
    "plt.figure(figsize=(8, 6))\n",
    "plt.bar(label_counts.index, label_counts.values, color='skyblue')\n",
    "plt.xticks(label_counts.index, ['매도', '관망', '매수'])\n",
    "plt.xlabel('예상 레이블')\n",
    "plt.ylabel('종목 수')\n",
    "plt.title('레이블 분포')\n",
    "plt.show()"
   ]
  },
  {
   "cell_type": "code",
   "execution_count": 17,
   "metadata": {},
   "outputs": [],
   "source": [
    "sample = pd.read_csv(\"./sub/sample_submission.csv\")\n",
    "sample = sample.rename(columns = {'종목코드' : 'ticker', '순위' : 'rating'})\n",
    "\n",
    "# sample의 'ticker' 컬럼에서 answer의 'ticker' 컬럼에 없는 값을 선택\n",
    "missing_tickers = sample[~sample['ticker'].isin(answer['ticker'])]\n",
    "missing_tickers = missing_tickers.reset_index(drop=True)\n",
    "missing_tickers = missing_tickers.drop('rating', axis=1)\n",
    "missing_tickers['return'] = 0\n",
    "missing_tickers.head()\n",
    "\n",
    "submission = pd.merge(answer, missing_tickers, how='outer')\n",
    "submission = submission.sort_values('return', ascending=False)\n",
    "submission = submission.reset_index()\n",
    "submission = submission.reset_index()\n",
    "submission = submission.drop('index', axis=1)\n",
    "submission = submission.sort_values('ticker')\n",
    "submission['순위2'] = submission['level_0']\n",
    "submission = submission.drop(['level_0', 'return'], axis=1)\n",
    "submission = submission.reset_index(drop=True)\n",
    "submission['순위'] = submission['순위2'] + 1\n",
    "submission = submission.rename(columns = {'ticker' : '종목코드'})\n",
    "submission = submission.drop('순위2', axis=1)\n",
    "\n",
    "submission.to_csv(\"XGBoost5.csv\")"
   ]
  },
  {
   "cell_type": "code",
   "execution_count": 19,
   "metadata": {},
   "outputs": [
    {
     "data": {
      "text/plain": [
       "1957"
      ]
     },
     "execution_count": 19,
     "metadata": {},
     "output_type": "execute_result"
    }
   ],
   "source": [
    "submission = pd.read_csv(\"./sub/XGBoost5.csv\")\n",
    "len(submission['순위'].unique())"
   ]
  },
  {
   "cell_type": "code",
   "execution_count": null,
   "metadata": {},
   "outputs": [],
   "source": []
  }
 ],
 "metadata": {
  "kernelspec": {
   "display_name": "KRX",
   "language": "python",
   "name": "python3"
  },
  "language_info": {
   "codemirror_mode": {
    "name": "ipython",
    "version": 3
   },
   "file_extension": ".py",
   "mimetype": "text/x-python",
   "name": "python",
   "nbconvert_exporter": "python",
   "pygments_lexer": "ipython3",
   "version": "3.10.11"
  },
  "orig_nbformat": 4
 },
 "nbformat": 4,
 "nbformat_minor": 2
}
